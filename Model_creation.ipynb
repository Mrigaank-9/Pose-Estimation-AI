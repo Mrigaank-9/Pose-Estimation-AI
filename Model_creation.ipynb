{
 "cells": [
  {
   "cell_type": "code",
   "execution_count": 17,
   "id": "0accc48d",
   "metadata": {},
   "outputs": [],
   "source": [
    "import pandas as pd \n",
    "import numpy as np \n",
    "from sklearn.model_selection import train_test_split"
   ]
  },
  {
   "cell_type": "code",
   "execution_count": 18,
   "id": "777a36d1",
   "metadata": {},
   "outputs": [],
   "source": [
    "df = pd.read_csv('exercise_angles.csv')\n",
    "df = df.drop(columns=['Side'])\n"
   ]
  },
  {
   "cell_type": "code",
   "execution_count": 19,
   "id": "a3df66cc",
   "metadata": {},
   "outputs": [],
   "source": [
    "X = df.drop(labels=['Label'], axis=1) # features\n",
    "y = df['Label'] # target value"
   ]
  },
  {
   "cell_type": "code",
   "execution_count": 20,
   "id": "ebed11f3",
   "metadata": {},
   "outputs": [],
   "source": [
    "X_train, X_test, y_train, y_test = train_test_split(X, y, test_size=0.3, random_state=42)"
   ]
  },
  {
   "cell_type": "code",
   "execution_count": 21,
   "id": "443e46ca",
   "metadata": {},
   "outputs": [],
   "source": [
    "from sklearn.linear_model import RidgeClassifier\n",
    "from sklearn.ensemble import RandomForestClassifier, GradientBoostingClassifier"
   ]
  },
  {
   "cell_type": "code",
   "execution_count": 22,
   "id": "9408a1c1",
   "metadata": {},
   "outputs": [],
   "source": [
    "from sklearn.preprocessing import StandardScaler\n",
    "from sklearn.compose import ColumnTransformer\n",
    "from sklearn.preprocessing import LabelEncoder"
   ]
  },
  {
   "cell_type": "code",
   "execution_count": 23,
   "id": "dc213c66",
   "metadata": {},
   "outputs": [
    {
     "data": {
      "text/plain": [
       "11"
      ]
     },
     "execution_count": 23,
     "metadata": {},
     "output_type": "execute_result"
    }
   ],
   "source": [
    "len(df.columns)"
   ]
  },
  {
   "cell_type": "code",
   "execution_count": 24,
   "id": "e54cbc3d",
   "metadata": {},
   "outputs": [],
   "source": [
    "scaler = StandardScaler()\n",
    "x_train = scaler.fit_transform(X_train)\n",
    "x_test = scaler.fit_transform(X_test)"
   ]
  },
  {
   "cell_type": "code",
   "execution_count": 65,
   "id": "894ee84f",
   "metadata": {},
   "outputs": [],
   "source": [
    "import gzip\n",
    "import pickle\n",
    "\n",
    "# Save compressed pickle file\n",
    "with gzip.open('exercise_classifier_rf.pkl.gz', 'wb') as f:\n",
    "    pickle.dump(clf, f)\n",
    "\n"
   ]
  },
  {
   "cell_type": "code",
   "execution_count": 25,
   "id": "97d0e713",
   "metadata": {},
   "outputs": [
    {
     "name": "stdout",
     "output_type": "stream",
     "text": [
      "Model and LabelEncoder saved successfully.\n"
     ]
    }
   ],
   "source": [
    "import pickle\n",
    "label_encoder = LabelEncoder()\n",
    "y = label_encoder.fit_transform(y)\n",
    "clf = RandomForestClassifier(n_estimators=100, random_state=42)\n",
    "clf.fit(x_train, y_train)\n",
    "with open('exercise_classifier_rf.pkl', 'wb') as f:\n",
    "    pickle.dump(clf, f)\n",
    "\n",
    "with open('label_encoder.pkl', 'wb') as f:\n",
    "    pickle.dump(label_encoder,f)\n",
    "print(\"Model and LabelEncoder saved successfully.\")"
   ]
  },
  {
   "cell_type": "code",
   "execution_count": 60,
   "id": "ed7f7e08",
   "metadata": {},
   "outputs": [],
   "source": [
    "with open('scaler.pkl', 'wb') as f:\n",
    "    pickle.dump(scaler, f)"
   ]
  },
  {
   "cell_type": "code",
   "execution_count": 26,
   "id": "947d815a",
   "metadata": {},
   "outputs": [
    {
     "data": {
      "text/plain": [
       "array(['Push Ups', 'Russian twists', 'Russian twists', ..., 'Push Ups',\n",
       "       'Push Ups', 'Russian twists'], dtype=object)"
      ]
     },
     "execution_count": 26,
     "metadata": {},
     "output_type": "execute_result"
    }
   ],
   "source": [
    "clf.predict(x_test)"
   ]
  },
  {
   "cell_type": "code",
   "execution_count": 28,
   "id": "9e277fd2",
   "metadata": {},
   "outputs": [
    {
     "name": "stdout",
     "output_type": "stream",
     "text": [
      "rf 0.9625134264232008\n"
     ]
    }
   ],
   "source": [
    "from sklearn.metrics import accuracy_score , classification_report , confusion_matrix\n",
    "from sklearn.model_selection import cross_val_score\n",
    "import pickle\n",
    "\n",
    "y_pred = clf.predict(x_test)\n",
    "print(algo, accuracy_score(y_test, y_pred))"
   ]
  },
  {
   "cell_type": "code",
   "execution_count": 29,
   "id": "2a6ae331",
   "metadata": {},
   "outputs": [],
   "source": [
    "with open('exercise_classifier.pkl', 'wb') as f:\n",
    "    pickle.dump(fit_models['rf'], f)"
   ]
  },
  {
   "cell_type": "code",
   "execution_count": 30,
   "id": "b9cff769",
   "metadata": {},
   "outputs": [
    {
     "data": {
      "text/html": [
       "<style>#sk-container-id-1 {color: black;}#sk-container-id-1 pre{padding: 0;}#sk-container-id-1 div.sk-toggleable {background-color: white;}#sk-container-id-1 label.sk-toggleable__label {cursor: pointer;display: block;width: 100%;margin-bottom: 0;padding: 0.3em;box-sizing: border-box;text-align: center;}#sk-container-id-1 label.sk-toggleable__label-arrow:before {content: \"▸\";float: left;margin-right: 0.25em;color: #696969;}#sk-container-id-1 label.sk-toggleable__label-arrow:hover:before {color: black;}#sk-container-id-1 div.sk-estimator:hover label.sk-toggleable__label-arrow:before {color: black;}#sk-container-id-1 div.sk-toggleable__content {max-height: 0;max-width: 0;overflow: hidden;text-align: left;background-color: #f0f8ff;}#sk-container-id-1 div.sk-toggleable__content pre {margin: 0.2em;color: black;border-radius: 0.25em;background-color: #f0f8ff;}#sk-container-id-1 input.sk-toggleable__control:checked~div.sk-toggleable__content {max-height: 200px;max-width: 100%;overflow: auto;}#sk-container-id-1 input.sk-toggleable__control:checked~label.sk-toggleable__label-arrow:before {content: \"▾\";}#sk-container-id-1 div.sk-estimator input.sk-toggleable__control:checked~label.sk-toggleable__label {background-color: #d4ebff;}#sk-container-id-1 div.sk-label input.sk-toggleable__control:checked~label.sk-toggleable__label {background-color: #d4ebff;}#sk-container-id-1 input.sk-hidden--visually {border: 0;clip: rect(1px 1px 1px 1px);clip: rect(1px, 1px, 1px, 1px);height: 1px;margin: -1px;overflow: hidden;padding: 0;position: absolute;width: 1px;}#sk-container-id-1 div.sk-estimator {font-family: monospace;background-color: #f0f8ff;border: 1px dotted black;border-radius: 0.25em;box-sizing: border-box;margin-bottom: 0.5em;}#sk-container-id-1 div.sk-estimator:hover {background-color: #d4ebff;}#sk-container-id-1 div.sk-parallel-item::after {content: \"\";width: 100%;border-bottom: 1px solid gray;flex-grow: 1;}#sk-container-id-1 div.sk-label:hover label.sk-toggleable__label {background-color: #d4ebff;}#sk-container-id-1 div.sk-serial::before {content: \"\";position: absolute;border-left: 1px solid gray;box-sizing: border-box;top: 0;bottom: 0;left: 50%;z-index: 0;}#sk-container-id-1 div.sk-serial {display: flex;flex-direction: column;align-items: center;background-color: white;padding-right: 0.2em;padding-left: 0.2em;position: relative;}#sk-container-id-1 div.sk-item {position: relative;z-index: 1;}#sk-container-id-1 div.sk-parallel {display: flex;align-items: stretch;justify-content: center;background-color: white;position: relative;}#sk-container-id-1 div.sk-item::before, #sk-container-id-1 div.sk-parallel-item::before {content: \"\";position: absolute;border-left: 1px solid gray;box-sizing: border-box;top: 0;bottom: 0;left: 50%;z-index: -1;}#sk-container-id-1 div.sk-parallel-item {display: flex;flex-direction: column;z-index: 1;position: relative;background-color: white;}#sk-container-id-1 div.sk-parallel-item:first-child::after {align-self: flex-end;width: 50%;}#sk-container-id-1 div.sk-parallel-item:last-child::after {align-self: flex-start;width: 50%;}#sk-container-id-1 div.sk-parallel-item:only-child::after {width: 0;}#sk-container-id-1 div.sk-dashed-wrapped {border: 1px dashed gray;margin: 0 0.4em 0.5em 0.4em;box-sizing: border-box;padding-bottom: 0.4em;background-color: white;}#sk-container-id-1 div.sk-label label {font-family: monospace;font-weight: bold;display: inline-block;line-height: 1.2em;}#sk-container-id-1 div.sk-label-container {text-align: center;}#sk-container-id-1 div.sk-container {/* jupyter's `normalize.less` sets `[hidden] { display: none; }` but bootstrap.min.css set `[hidden] { display: none !important; }` so we also need the `!important` here to be able to override the default hidden behavior on the sphinx rendered scikit-learn.org. See: https://github.com/scikit-learn/scikit-learn/issues/21755 */display: inline-block !important;position: relative;}#sk-container-id-1 div.sk-text-repr-fallback {display: none;}</style><div id=\"sk-container-id-1\" class=\"sk-top-container\"><div class=\"sk-text-repr-fallback\"><pre>RandomForestClassifier()</pre><b>In a Jupyter environment, please rerun this cell to show the HTML representation or trust the notebook. <br />On GitHub, the HTML representation is unable to render, please try loading this page with nbviewer.org.</b></div><div class=\"sk-container\" hidden><div class=\"sk-item\"><div class=\"sk-estimator sk-toggleable\"><input class=\"sk-toggleable__control sk-hidden--visually\" id=\"sk-estimator-id-1\" type=\"checkbox\" checked><label for=\"sk-estimator-id-1\" class=\"sk-toggleable__label sk-toggleable__label-arrow\">RandomForestClassifier</label><div class=\"sk-toggleable__content\"><pre>RandomForestClassifier()</pre></div></div></div></div></div>"
      ],
      "text/plain": [
       "RandomForestClassifier()"
      ]
     },
     "execution_count": 30,
     "metadata": {},
     "output_type": "execute_result"
    }
   ],
   "source": [
    "with open('exercise_classifier.pkl', 'rb') as f:\n",
    "    model = pickle.load(f)\n",
    "\n",
    "model"
   ]
  },
  {
   "cell_type": "code",
   "execution_count": 31,
   "id": "d280bb03",
   "metadata": {},
   "outputs": [
    {
     "name": "stdout",
     "output_type": "stream",
     "text": [
      "                precision    recall  f1-score   support\n",
      "\n",
      " Jumping Jacks       0.97      0.96      0.96      1578\n",
      "      Pull ups       0.95      0.95      0.95      1976\n",
      "      Push Ups       0.97      0.99      0.98      2938\n",
      "Russian twists       0.97      0.97      0.97      1310\n",
      "        Squats       0.96      0.92      0.94      1508\n",
      "\n",
      "      accuracy                           0.96      9310\n",
      "     macro avg       0.96      0.96      0.96      9310\n",
      "  weighted avg       0.96      0.96      0.96      9310\n",
      "\n"
     ]
    }
   ],
   "source": [
    "print(classification_report(y_test, y_pred))"
   ]
  },
  {
   "cell_type": "raw",
   "id": "032c783e",
   "metadata": {},
   "source": [
    "cm = confusion_matrix(y_test,y_pred)\n",
    "sns.heatmap(cm, annot=True)"
   ]
  },
  {
   "cell_type": "code",
   "execution_count": 48,
   "id": "df87dbf9",
   "metadata": {},
   "outputs": [
    {
     "data": {
      "text/plain": [
       "<sklearn.metrics._plot.confusion_matrix.ConfusionMatrixDisplay at 0x29885d8c310>"
      ]
     },
     "execution_count": 48,
     "metadata": {},
     "output_type": "execute_result"
    },
    {
     "data": {
      "image/png": "[encoded data removed]",
      "text/plain": [
       "<Figure size 640x480 with 2 Axes>"
      ]
     },
     "metadata": {},
     "output_type": "display_data"
    }
   ],
   "source": [
    "from sklearn.metrics import ConfusionMatrixDisplay \n",
    "ConfusionMatrixDisplay.from_predictions(y_test, y_pred)"
   ]
  },
  {
   "cell_type": "code",
   "execution_count": 59,
   "id": "007ae172",
   "metadata": {},
   "outputs": [
    {
     "name": "stdout",
     "output_type": "stream",
     "text": [
      "Predicted exercise labels and confidence scores: [('Russian twists', 1.0), ('Russian twists', 1.0), ('Russian twists', 1.0), ('Russian twists', 1.0), ('Russian twists', 1.0), ('Russian twists', 1.0), ('Russian twists', 1.0), ('Russian twists', 1.0), ('Russian twists', 1.0), ('Russian twists', 1.0), ('Russian twists', 1.0), ('Russian twists', 1.0), ('Russian twists', 1.0), ('Russian twists', 1.0), ('Russian twists', 1.0), ('Russian twists', 1.0), ('Russian twists', 1.0), ('Russian twists', 1.0), ('Russian twists', 1.0), ('Russian twists', 1.0), ('Russian twists', 1.0), ('Russian twists', 0.99), ('Russian twists', 1.0), ('Russian twists', 1.0), ('Russian twists', 1.0), ('Russian twists', 1.0), ('Russian twists', 1.0), ('Russian twists', 1.0), ('Russian twists', 1.0), ('Russian twists', 1.0), ('Russian twists', 1.0), ('Russian twists', 1.0), ('Russian twists', 1.0), ('Russian twists', 1.0), ('Russian twists', 1.0), ('Russian twists', 1.0), ('Russian twists', 1.0), ('Russian twists', 1.0), ('Russian twists', 1.0), ('Russian twists', 1.0), ('Russian twists', 1.0), ('Russian twists', 1.0), ('Russian twists', 1.0), ('Russian twists', 1.0), ('Russian twists', 1.0), ('Russian twists', 1.0), ('Russian twists', 1.0), ('Russian twists', 1.0), ('Russian twists', 1.0), ('Russian twists', 1.0), ('Russian twists', 1.0), ('Russian twists', 1.0), ('Russian twists', 1.0), ('Russian twists', 1.0), ('Russian twists', 1.0), ('Russian twists', 1.0), ('Russian twists', 1.0), ('Russian twists', 1.0), ('Russian twists', 1.0), ('Russian twists', 1.0), ('Russian twists', 1.0), ('Russian twists', 1.0), ('Russian twists', 1.0), ('Russian twists', 1.0), ('Russian twists', 1.0), ('Russian twists', 1.0), ('Russian twists', 1.0), ('Russian twists', 1.0), ('Russian twists', 1.0), ('Russian twists', 1.0), ('Russian twists', 1.0), ('Russian twists', 1.0), ('Russian twists', 1.0), ('Russian twists', 1.0), ('Russian twists', 1.0), ('Russian twists', 1.0), ('Russian twists', 1.0), ('Russian twists', 1.0), ('Russian twists', 1.0), ('Russian twists', 1.0), ('Russian twists', 1.0), ('Russian twists', 1.0), ('Russian twists', 1.0), ('Russian twists', 1.0), ('Russian twists', 1.0), ('Russian twists', 0.99), ('Russian twists', 1.0), ('Russian twists', 1.0), ('Russian twists', 1.0), ('Russian twists', 1.0), ('Russian twists', 1.0), ('Russian twists', 1.0), ('Russian twists', 0.99), ('Russian twists', 1.0), ('Russian twists', 1.0), ('Russian twists', 0.99), ('Russian twists', 1.0), ('Russian twists', 1.0), ('Russian twists', 1.0), ('Russian twists', 1.0), ('Russian twists', 1.0), ('Russian twists', 1.0), ('Russian twists', 1.0), ('Russian twists', 1.0), ('Russian twists', 1.0), ('Russian twists', 1.0), ('Russian twists', 1.0), ('Russian twists', 1.0), ('Russian twists', 1.0), ('Russian twists', 1.0), ('Russian twists', 1.0), ('Russian twists', 1.0), ('Russian twists', 1.0), ('Russian twists', 1.0), ('Russian twists', 1.0), ('Russian twists', 1.0), ('Russian twists', 1.0), ('Russian twists', 1.0), ('Russian twists', 1.0), ('Russian twists', 1.0), ('Russian twists', 1.0), ('Russian twists', 1.0), ('Russian twists', 1.0), ('Russian twists', 1.0), ('Russian twists', 1.0), ('Russian twists', 1.0), ('Russian twists', 1.0), ('Russian twists', 1.0), ('Russian twists', 1.0), ('Russian twists', 1.0), ('Russian twists', 1.0), ('Russian twists', 1.0), ('Russian twists', 1.0), ('Russian twists', 1.0), ('Russian twists', 1.0), ('Russian twists', 1.0), ('Russian twists', 1.0), ('Russian twists', 1.0), ('Russian twists', 1.0), ('Russian twists', 1.0), ('Russian twists', 1.0), ('Russian twists', 1.0), ('Russian twists', 1.0), ('Russian twists', 1.0), ('Russian twists', 1.0), ('Russian twists', 1.0), ('Russian twists', 1.0), ('Russian twists', 1.0), ('Russian twists', 1.0), ('Russian twists', 1.0), ('Russian twists', 1.0), ('Russian twists', 1.0), ('Russian twists', 1.0), ('Russian twists', 1.0), ('Russian twists', 1.0), ('Russian twists', 1.0), ('Russian twists', 1.0), ('Russian twists', 1.0), ('Russian twists', 1.0), ('Russian twists', 0.99), ('Russian twists', 1.0), ('Russian twists', 1.0), ('Russian twists', 0.99), ('Russian twists', 1.0), ('Russian twists', 1.0), ('Russian twists', 1.0), ('Russian twists', 1.0), ('Russian twists', 1.0), ('Russian twists', 0.99), ('Russian twists', 0.97), ('Russian twists', 0.97), ('Russian twists', 0.97), ('Russian twists', 0.97), ('Russian twists', 0.97), ('Russian twists', 0.97), ('Squats', 0.99), ('Squats', 1.0), ('Squats', 0.99), ('Squats', 0.96), ('Squats', 0.94), ('Squats', 0.78), ('Squats', 0.85), ('Squats', 0.79), ('Squats', 0.8), ('Squats', 0.84), ('Squats', 0.87), ('Squats', 0.83), ('Jumping Jacks', 0.7), ('Squats', 0.5), ('Jumping Jacks', 0.7), ('Squats', 0.5), ('Squats', 0.53), ('Squats', 0.78), ('Squats', 0.74), ('Squats', 0.65), ('Squats', 0.59), ('Squats', 0.79), ('Squats', 0.77), ('Squats', 0.91), ('Squats', 0.94), ('Squats', 0.97), ('Squats', 0.96), ('Squats', 0.98), ('Squats', 0.93), ('Squats', 0.78), ('Squats', 0.73), ('Squats', 0.73), ('Squats', 0.77), ('Squats', 0.68), ('Squats', 0.56), ('Squats', 0.73), ('Squats', 0.9), ('Squats', 0.86), ('Squats', 0.62), ('Squats', 0.77), ('Squats', 0.82), ('Squats', 0.87), ('Squats', 0.9), ('Squats', 0.93), ('Squats', 0.97), ('Squats', 0.91), ('Squats', 0.99), ('Squats', 0.92), ('Squats', 0.95), ('Squats', 0.99), ('Squats', 0.98), ('Squats', 1.0), ('Squats', 1.0), ('Squats', 0.98), ('Squats', 0.99), ('Squats', 0.97), ('Squats', 0.99), ('Squats', 0.97), ('Squats', 0.98), ('Squats', 0.98), ('Squats', 0.98), ('Squats', 0.99), ('Squats', 0.98), ('Squats', 0.95), ('Squats', 0.99), ('Squats', 0.99), ('Squats', 0.99), ('Squats', 1.0), ('Squats', 0.98), ('Squats', 1.0), ('Squats', 1.0), ('Squats', 0.99), ('Squats', 0.99), ('Squats', 0.99), ('Squats', 1.0), ('Squats', 1.0), ('Squats', 1.0), ('Squats', 0.99), ('Squats', 0.99), ('Squats', 0.98), ('Squats', 0.99), ('Squats', 0.96), ('Squats', 0.98), ('Squats', 0.99), ('Squats', 0.96), ('Squats', 0.94), ('Squats', 0.95), ('Squats', 0.95), ('Squats', 0.99), ('Squats', 0.98), ('Squats', 0.98), ('Squats', 0.98), ('Squats', 0.98), ('Squats', 0.99), ('Squats', 0.98), ('Squats', 0.96), ('Squats', 0.96), ('Squats', 0.79), ('Squats', 0.75), ('Squats', 0.86), ('Squats', 0.9), ('Squats', 0.87), ('Squats', 0.69), ('Squats', 0.93), ('Squats', 0.67), ('Squats', 0.59), ('Squats', 0.7), ('Squats', 0.75), ('Squats', 0.73), ('Squats', 0.83), ('Squats', 0.87), ('Squats', 0.9), ('Squats', 0.9), ('Squats', 0.91), ('Squats', 0.95), ('Squats', 0.81), ('Squats', 0.66), ('Squats', 0.77), ('Squats', 0.9), ('Squats', 0.93), ('Squats', 0.91), ('Squats', 0.77), ('Squats', 0.75), ('Squats', 0.79), ('Squats', 0.73), ('Squats', 0.83), ('Squats', 0.74), ('Squats', 0.92), ('Squats', 0.89), ('Squats', 0.84), ('Squats', 0.82), ('Push Ups', 0.45), ('Push Ups', 0.4), ('Pull ups', 0.92), ('Pull ups', 0.97), ('Pull ups', 0.99), ('Pull ups', 0.92), ('Pull ups', 0.99), ('Pull ups', 0.98), ('Pull ups', 0.99), ('Pull ups', 0.99), ('Pull ups', 1.0), ('Pull ups', 0.97), ('Pull ups', 0.99), ('Pull ups', 1.0), ('Pull ups', 0.99), ('Pull ups', 1.0), ('Pull ups', 0.99), ('Pull ups', 0.98), ('Pull ups', 1.0), ('Pull ups', 0.99), ('Pull ups', 0.99), ('Pull ups', 0.99), ('Pull ups', 0.99), ('Pull ups', 0.89), ('Pull ups', 0.87), ('Pull ups', 0.88), ('Pull ups', 0.99), ('Pull ups', 1.0), ('Pull ups', 0.97), ('Pull ups', 0.99), ('Pull ups', 0.89), ('Pull ups', 0.99), ('Pull ups', 0.99), ('Pull ups', 1.0), ('Pull ups', 1.0), ('Pull ups', 0.99), ('Pull ups', 0.98), ('Pull ups', 0.97), ('Pull ups', 1.0), ('Pull ups', 1.0), ('Pull ups', 0.99), ('Pull ups', 0.98), ('Pull ups', 0.99), ('Pull ups', 1.0), ('Pull ups', 1.0), ('Pull ups', 0.99), ('Pull ups', 0.97), ('Pull ups', 1.0), ('Pull ups', 0.94), ('Pull ups', 0.95), ('Pull ups', 0.97), ('Pull ups', 0.99), ('Pull ups', 1.0), ('Pull ups', 1.0), ('Pull ups', 1.0), ('Pull ups', 0.99), ('Pull ups', 0.99), ('Pull ups', 0.96), ('Pull ups', 0.97), ('Pull ups', 0.97), ('Pull ups', 0.97), ('Pull ups', 0.99), ('Pull ups', 0.99), ('Pull ups', 1.0), ('Pull ups', 1.0), ('Pull ups', 0.99), ('Pull ups', 0.98), ('Pull ups', 1.0), ('Pull ups', 1.0), ('Pull ups', 0.98), ('Pull ups', 0.98), ('Pull ups', 0.97), ('Pull ups', 0.99), ('Pull ups', 0.97), ('Pull ups', 0.95), ('Pull ups', 0.97), ('Pull ups', 0.98), ('Pull ups', 0.96), ('Pull ups', 1.0), ('Pull ups', 0.98), ('Pull ups', 1.0), ('Pull ups', 0.98), ('Pull ups', 0.96), ('Pull ups', 0.99), ('Pull ups', 0.98), ('Pull ups', 0.98), ('Pull ups', 1.0), ('Pull ups', 0.99), ('Pull ups', 1.0), ('Pull ups', 1.0), ('Pull ups', 0.99), ('Pull ups', 0.99), ('Pull ups', 0.99), ('Pull ups', 0.98), ('Pull ups', 1.0), ('Pull ups', 0.99), ('Pull ups', 0.99), ('Pull ups', 0.99), ('Pull ups', 0.98), ('Pull ups', 0.99), ('Pull ups', 0.98), ('Pull ups', 0.98), ('Pull ups', 0.99), ('Pull ups', 0.99), ('Pull ups', 1.0), ('Pull ups', 1.0), ('Pull ups', 1.0), ('Pull ups', 1.0), ('Pull ups', 1.0), ('Pull ups', 1.0), ('Pull ups', 1.0), ('Pull ups', 0.97), ('Pull ups', 1.0), ('Pull ups', 0.97), ('Pull ups', 0.93), ('Pull ups', 0.96), ('Pull ups', 0.87), ('Pull ups', 0.95), ('Pull ups', 0.97), ('Pull ups', 0.98), ('Pull ups', 1.0), ('Pull ups', 0.98), ('Pull ups', 1.0), ('Jumping Jacks', 0.94), ('Jumping Jacks', 0.97), ('Jumping Jacks', 0.98), ('Jumping Jacks', 0.85), ('Jumping Jacks', 0.91), ('Jumping Jacks', 0.91), ('Jumping Jacks', 0.76), ('Jumping Jacks', 0.89), ('Jumping Jacks', 0.95), ('Jumping Jacks', 1.0), ('Jumping Jacks', 0.99), ('Jumping Jacks', 1.0), ('Jumping Jacks', 1.0), ('Jumping Jacks', 0.99), ('Jumping Jacks', 1.0), ('Jumping Jacks', 0.99), ('Jumping Jacks', 0.98), ('Jumping Jacks', 0.99), ('Jumping Jacks', 0.96), ('Jumping Jacks', 0.98), ('Jumping Jacks', 0.92), ('Jumping Jacks', 1.0), ('Jumping Jacks', 0.98), ('Jumping Jacks', 0.95), ('Jumping Jacks', 0.95), ('Jumping Jacks', 1.0), ('Jumping Jacks', 1.0), ('Jumping Jacks', 0.99), ('Jumping Jacks', 0.97), ('Jumping Jacks', 1.0), ('Jumping Jacks', 1.0), ('Jumping Jacks', 0.95), ('Jumping Jacks', 0.97), ('Jumping Jacks', 0.97), ('Jumping Jacks', 0.94), ('Jumping Jacks', 0.85), ('Jumping Jacks', 0.84), ('Jumping Jacks', 0.84), ('Jumping Jacks', 1.0), ('Jumping Jacks', 0.99), ('Jumping Jacks', 0.95), ('Jumping Jacks', 0.92), ('Jumping Jacks', 0.94), ('Jumping Jacks', 0.94), ('Jumping Jacks', 0.94), ('Jumping Jacks', 0.99), ('Jumping Jacks', 1.0), ('Jumping Jacks', 1.0), ('Jumping Jacks', 0.98), ('Jumping Jacks', 0.96), ('Jumping Jacks', 0.87), ('Jumping Jacks', 0.97), ('Jumping Jacks', 0.93), ('Jumping Jacks', 1.0), ('Jumping Jacks', 0.98), ('Jumping Jacks', 1.0), ('Jumping Jacks', 1.0), ('Jumping Jacks', 1.0), ('Jumping Jacks', 1.0), ('Jumping Jacks', 0.99), ('Jumping Jacks', 0.99), ('Jumping Jacks', 0.95), ('Jumping Jacks', 1.0), ('Jumping Jacks', 0.98), ('Jumping Jacks', 0.98), ('Jumping Jacks', 0.86), ('Jumping Jacks', 0.9), ('Jumping Jacks', 0.94), ('Jumping Jacks', 0.97), ('Jumping Jacks', 1.0), ('Jumping Jacks', 0.97), ('Jumping Jacks', 0.99), ('Jumping Jacks', 0.99), ('Jumping Jacks', 1.0), ('Jumping Jacks', 0.99), ('Jumping Jacks', 1.0), ('Jumping Jacks', 1.0), ('Jumping Jacks', 1.0), ('Jumping Jacks', 1.0), ('Jumping Jacks', 0.97), ('Jumping Jacks', 0.97), ('Jumping Jacks', 0.97), ('Jumping Jacks', 0.98), ('Jumping Jacks', 0.97), ('Jumping Jacks', 0.97), ('Jumping Jacks', 1.0), ('Jumping Jacks', 1.0), ('Jumping Jacks', 0.96), ('Jumping Jacks', 0.97), ('Jumping Jacks', 1.0), ('Jumping Jacks', 0.97), ('Jumping Jacks', 0.92), ('Jumping Jacks', 0.94), ('Jumping Jacks', 0.99), ('Jumping Jacks', 0.91), ('Jumping Jacks', 0.9), ('Jumping Jacks', 0.88), ('Jumping Jacks', 0.96), ('Jumping Jacks', 0.99), ('Jumping Jacks', 0.99), ('Jumping Jacks', 1.0), ('Jumping Jacks', 1.0), ('Jumping Jacks', 0.98), ('Jumping Jacks', 0.92), ('Jumping Jacks', 0.97), ('Jumping Jacks', 0.99), ('Jumping Jacks', 1.0), ('Jumping Jacks', 1.0), ('Jumping Jacks', 0.99), ('Jumping Jacks', 0.98), ('Jumping Jacks', 0.88), ('Jumping Jacks', 0.98), ('Jumping Jacks', 0.98), ('Jumping Jacks', 0.97), ('Jumping Jacks', 0.99), ('Jumping Jacks', 0.99), ('Jumping Jacks', 1.0), ('Jumping Jacks', 1.0), ('Jumping Jacks', 1.0), ('Jumping Jacks', 0.99), ('Jumping Jacks', 1.0), ('Jumping Jacks', 1.0), ('Jumping Jacks', 1.0), ('Jumping Jacks', 0.99), ('Jumping Jacks', 0.85), ('Jumping Jacks', 0.89), ('Jumping Jacks', 0.88), ('Jumping Jacks', 0.99), ('Jumping Jacks', 0.97), ('Jumping Jacks', 1.0), ('Jumping Jacks', 0.99), ('Jumping Jacks', 0.99), ('Jumping Jacks', 0.97), ('Jumping Jacks', 0.9), ('Jumping Jacks', 0.79), ('Jumping Jacks', 0.91), ('Jumping Jacks', 0.99), ('Jumping Jacks', 1.0), ('Jumping Jacks', 1.0), ('Jumping Jacks', 0.99), ('Jumping Jacks', 0.99), ('Jumping Jacks', 0.95), ('Jumping Jacks', 0.99), ('Jumping Jacks', 0.92), ('Jumping Jacks', 1.0), ('Jumping Jacks', 1.0), ('Jumping Jacks', 0.98), ('Jumping Jacks', 1.0), ('Jumping Jacks', 1.0), ('Jumping Jacks', 1.0), ('Jumping Jacks', 0.99), ('Jumping Jacks', 0.91), ('Jumping Jacks', 0.91), ('Jumping Jacks', 0.97), ('Jumping Jacks', 1.0), ('Jumping Jacks', 0.73), ('Jumping Jacks', 0.72), ('Jumping Jacks', 0.87), ('Jumping Jacks', 0.98), ('Jumping Jacks', 0.98), ('Jumping Jacks', 0.99), ('Jumping Jacks', 0.99), ('Jumping Jacks', 0.99), ('Jumping Jacks', 0.99), ('Jumping Jacks', 0.97), ('Jumping Jacks', 0.98), ('Jumping Jacks', 0.99), ('Jumping Jacks', 0.99), ('Jumping Jacks', 0.99), ('Jumping Jacks', 0.98), ('Jumping Jacks', 0.97), ('Jumping Jacks', 1.0), ('Jumping Jacks', 1.0), ('Jumping Jacks', 0.96), ('Jumping Jacks', 0.96), ('Jumping Jacks', 1.0), ('Jumping Jacks', 1.0), ('Jumping Jacks', 1.0), ('Jumping Jacks', 0.98), ('Jumping Jacks', 1.0), ('Jumping Jacks', 1.0), ('Jumping Jacks', 0.99), ('Jumping Jacks', 1.0), ('Jumping Jacks', 0.98), ('Jumping Jacks', 0.99), ('Jumping Jacks', 0.85), ('Jumping Jacks', 0.7), ('Jumping Jacks', 0.68), ('Jumping Jacks', 0.86), ('Jumping Jacks', 0.97), ('Jumping Jacks', 0.99), ('Jumping Jacks', 1.0), ('Jumping Jacks', 0.96), ('Jumping Jacks', 0.97), ('Jumping Jacks', 0.96), ('Jumping Jacks', 0.93), ('Jumping Jacks', 0.96), ('Jumping Jacks', 0.99), ('Jumping Jacks', 1.0), ('Jumping Jacks', 0.78), ('Jumping Jacks', 0.99), ('Jumping Jacks', 0.96), ('Jumping Jacks', 0.99), ('Jumping Jacks', 1.0), ('Jumping Jacks', 0.99), ('Jumping Jacks', 0.99), ('Jumping Jacks', 1.0), ('Jumping Jacks', 1.0), ('Push Ups', 1.0), ('Push Ups', 0.97), ('Push Ups', 0.97), ('Push Ups', 0.97), ('Push Ups', 1.0), ('Push Ups', 0.98), ('Push Ups', 0.98), ('Push Ups', 0.65), ('Push Ups', 0.8), ('Push Ups', 1.0), ('Push Ups', 0.93), ('Push Ups', 0.79), ('Pull ups', 0.57), ('Push Ups', 0.66), ('Push Ups', 0.78), ('Push Ups', 0.81), ('Push Ups', 0.88), ('Push Ups', 0.78), ('Push Ups', 0.85), ('Push Ups', 0.67), ('Push Ups', 0.93), ('Push Ups', 0.97), ('Push Ups', 0.78), ('Push Ups', 1.0), ('Push Ups', 0.95), ('Push Ups', 0.99), ('Push Ups', 0.97), ('Push Ups', 0.95), ('Push Ups', 0.95), ('Push Ups', 0.99), ('Push Ups', 0.98), ('Push Ups', 0.92), ('Push Ups', 0.95), ('Push Ups', 0.94), ('Push Ups', 0.97), ('Push Ups', 0.97), ('Push Ups', 0.99), ('Push Ups', 0.98), ('Push Ups', 0.99), ('Push Ups', 1.0), ('Push Ups', 0.85), ('Push Ups', 0.97), ('Push Ups', 0.9), ('Pull ups', 0.71), ('Push Ups', 0.59), ('Push Ups', 0.66), ('Push Ups', 0.52), ('Push Ups', 0.75), ('Push Ups', 0.84), ('Push Ups', 0.91), ('Push Ups', 0.7), ('Push Ups', 0.89), ('Push Ups', 0.89), ('Push Ups', 0.92), ('Push Ups', 0.78), ('Push Ups', 1.0), ('Push Ups', 1.0), ('Push Ups', 1.0), ('Push Ups', 0.95), ('Push Ups', 0.93), ('Push Ups', 0.96), ('Push Ups', 0.97), ('Push Ups', 0.97), ('Push Ups', 0.97), ('Push Ups', 0.97), ('Push Ups', 0.97), ('Push Ups', 0.95), ('Push Ups', 1.0), ('Push Ups', 0.98), ('Push Ups', 1.0), ('Push Ups', 1.0), ('Push Ups', 0.96), ('Push Ups', 0.9), ('Push Ups', 0.84), ('Push Ups', 0.88), ('Pull ups', 0.7), ('Push Ups', 0.68), ('Push Ups', 0.69), ('Push Ups', 0.72), ('Pull ups', 0.56), ('Pull ups', 0.63), ('Push Ups', 0.98), ('Push Ups', 0.91), ('Push Ups', 0.91), ('Push Ups', 0.99), ('Push Ups', 1.0), ('Push Ups', 0.99), ('Push Ups', 1.0), ('Push Ups', 0.99), ('Push Ups', 0.98), ('Push Ups', 0.97), ('Push Ups', 0.94), ('Push Ups', 0.93), ('Push Ups', 0.97), ('Push Ups', 0.96), ('Push Ups', 0.96), ('Push Ups', 0.93), ('Push Ups', 0.91), ('Push Ups', 1.0), ('Push Ups', 1.0), ('Push Ups', 0.99), ('Push Ups', 0.98), ('Push Ups', 0.92), ('Push Ups', 0.65), ('Push Ups', 0.77), ('Push Ups', 0.72), ('Push Ups', 0.92), ('Push Ups', 1.0), ('Push Ups', 0.82), ('Push Ups', 0.73), ('Push Ups', 0.56), ('Push Ups', 1.0), ('Push Ups', 0.95)]\n"
     ]
    }
   ],
   "source": [
    "import os\n",
    "import cv2\n",
    "import mediapipe as mp\n",
    "import numpy as np\n",
    "import pickle\n",
    "import warnings\n",
    "warnings.filterwarnings('ignore') \n",
    "mp_drawing = mp.solutions.drawing_utils\n",
    "mp_pose = mp.solutions.pose\n",
    "\n",
    "# Function to calculate angle between three points\n",
    "def calculate_angle(a, b, c):\n",
    "    a = np.array(a)\n",
    "    b = np.array(b)\n",
    "    c = np.array(c)\n",
    "\n",
    "    radians = np.arctan2(c[1] - b[1], c[0] - b[0]) - np.arctan2(a[1] - b[1], a[0] - b[0])\n",
    "    angle = np.abs(radians * 180.0 / np.pi)\n",
    "\n",
    "    if angle > 180.0:\n",
    "        angle = 360.0 - angle\n",
    "\n",
    "    return angle\n",
    "\n",
    "# Function to calculate angle with ground\n",
    "def calculate_angle_with_ground(landmark_point):\n",
    "    ground_point = [landmark_point[0], 1]  # Ground point directly below the landmark\n",
    "    landmark_point = np.array(landmark_point)\n",
    "    \n",
    "    angle_rad = np.arctan2(ground_point[1] - landmark_point[1], ground_point[0] - landmark_point[0])\n",
    "    angle_deg = np.degrees(angle_rad)\n",
    "    \n",
    "    return angle_deg\n",
    "\n",
    "# Load the trained machine learning model using pickle\n",
    "def load_model(model_filename):\n",
    "    with open(model_filename, 'rb') as file:\n",
    "        model = pickle.load(file)\n",
    "    return model\n",
    "\n",
    "# Function to process a single video, extract angles, and make predictions\n",
    "def process_video(video_path, model, output_path):\n",
    "    cap = cv2.VideoCapture(video_path)\n",
    "    predictions = []\n",
    "    confidences = []\n",
    "\n",
    "    # Get video properties\n",
    "    frame_width = int(cap.get(cv2.CAP_PROP_FRAME_WIDTH))\n",
    "    frame_height = int(cap.get(cv2.CAP_PROP_FRAME_HEIGHT))\n",
    "    fps = int(cap.get(cv2.CAP_PROP_FPS))\n",
    "\n",
    "    # Initialize video writer\n",
    "    out = cv2.VideoWriter(output_path, cv2.VideoWriter_fourcc(*'mp4v'), fps, (frame_width, frame_height))\n",
    "\n",
    "    with mp_pose.Pose(min_detection_confidence=0.5, min_tracking_confidence=0.5) as pose:\n",
    "        while cap.isOpened():\n",
    "            ret, frame = cap.read()\n",
    "            if not ret:\n",
    "                break\n",
    "\n",
    "            # Convert the BGR image to RGB\n",
    "            image = cv2.cvtColor(frame, cv2.COLOR_BGR2RGB)\n",
    "            image.flags.writeable = False\n",
    "\n",
    "            # Make detection\n",
    "            results = pose.process(image)\n",
    "\n",
    "            # Revert to writeable to draw the annotations on the image\n",
    "            image.flags.writeable = True\n",
    "            image = cv2.cvtColor(image, cv2.COLOR_RGB2BGR)\n",
    "\n",
    "            try:\n",
    "                if results.pose_landmarks:\n",
    "                    landmarks = results.pose_landmarks.landmark\n",
    "\n",
    "                    # Determine side (left or right) based on key landmarks\n",
    "                    if (landmarks[mp_pose.PoseLandmark.LEFT_SHOULDER] and\n",
    "                        landmarks[mp_pose.PoseLandmark.LEFT_ELBOW] and\n",
    "                        landmarks[mp_pose.PoseLandmark.LEFT_WRIST]):\n",
    "                        shoulder = [landmarks[mp_pose.PoseLandmark.LEFT_SHOULDER].x, landmarks[mp_pose.PoseLandmark.LEFT_SHOULDER].y]\n",
    "                        elbow = [landmarks[mp_pose.PoseLandmark.LEFT_ELBOW].x, landmarks[mp_pose.PoseLandmark.LEFT_ELBOW].y]\n",
    "                        wrist = [landmarks[mp_pose.PoseLandmark.LEFT_WRIST].x, landmarks[mp_pose.PoseLandmark.LEFT_WRIST].y]\n",
    "                        hip = [landmarks[mp_pose.PoseLandmark.LEFT_HIP].x, landmarks[mp_pose.PoseLandmark.LEFT_HIP].y]\n",
    "                        knee = [landmarks[mp_pose.PoseLandmark.LEFT_KNEE].x, landmarks[mp_pose.PoseLandmark.LEFT_KNEE].y]\n",
    "                        ankle = [landmarks[mp_pose.PoseLandmark.LEFT_ANKLE].x, landmarks[mp_pose.PoseLandmark.LEFT_ANKLE].y]\n",
    "                    elif (landmarks[mp_pose.PoseLandmark.RIGHT_SHOULDER] and\n",
    "                          landmarks[mp_pose.PoseLandmark.RIGHT_ELBOW] and\n",
    "                          landmarks[mp_pose.PoseLandmark.RIGHT_WRIST]):\n",
    "                        shoulder = [landmarks[mp_pose.PoseLandmark.RIGHT_SHOULDER].x, landmarks[mp_pose.PoseLandmark.RIGHT_SHOULDER].y]\n",
    "                        elbow = [landmarks[mp_pose.PoseLandmark.RIGHT_ELBOW].x, landmarks[mp_pose.PoseLandmark.RIGHT_ELBOW].y]\n",
    "                        wrist = [landmarks[mp_pose.PoseLandmark.RIGHT_WRIST].x, landmarks[mp_pose.PoseLandmark.RIGHT_WRIST].y]\n",
    "                        hip = [landmarks[mp_pose.PoseLandmark.RIGHT_HIP].x, landmarks[mp_pose.PoseLandmark.RIGHT_HIP].y]\n",
    "                        knee = [landmarks[mp_pose.PoseLandmark.RIGHT_KNEE].x, landmarks[mp_pose.PoseLandmark.RIGHT_KNEE].y]\n",
    "                        ankle = [landmarks[mp_pose.PoseLandmark.RIGHT_ANKLE].x, landmarks[mp_pose.PoseLandmark.RIGHT_ANKLE].y]\n",
    "                    else:\n",
    "                        continue  # Skip frame if no valid side detected\n",
    "\n",
    "                    # Calculate angles based on the detected side\n",
    "                    shoulder_angle = calculate_angle(hip, shoulder, elbow)\n",
    "                    elbow_angle = calculate_angle(shoulder, elbow, wrist)\n",
    "                    hip_angle = calculate_angle(shoulder, hip, knee)\n",
    "                    knee_angle = calculate_angle(hip, knee, ankle)\n",
    "                    ankle_angle = calculate_angle(knee, ankle, (ankle[0], ankle[1] + 0.1))  # Add a small offset to avoid division by zero\n",
    "\n",
    "                    # Calculate ground angles\n",
    "                    shoulder_ground_angle = calculate_angle_with_ground(shoulder)\n",
    "                    elbow_ground_angle = calculate_angle_with_ground(elbow)\n",
    "                    hip_ground_angle = calculate_angle_with_ground(hip)\n",
    "                    knee_ground_angle = calculate_angle_with_ground(knee)\n",
    "                    ankle_ground_angle = calculate_angle_with_ground(ankle)\n",
    "\n",
    "                    # Convert angles to a format suitable for prediction\n",
    "                    angles_for_prediction = np.array([\n",
    "                        shoulder_angle, elbow_angle, hip_angle, knee_angle, ankle_angle,\n",
    "                        shoulder_ground_angle, elbow_ground_angle, hip_ground_angle, knee_ground_angle, ankle_ground_angle\n",
    "                    ]).reshape(1, -1)  # Reshape for single sample prediction\n",
    "                    \n",
    "                    angles_for_prediction = scaler.transform(angles_for_prediction)\n",
    "                    # Predict using the loaded model\n",
    "                    predicted_output = model.predict(angles_for_prediction)\n",
    "                    confidence_score = model.predict_proba(angles_for_prediction).max()\n",
    "\n",
    "                    # Store prediction\n",
    "                    predictions.append(predicted_output[0])  # Assuming single output prediction\n",
    "                    confidences.append(confidence_score)\n",
    "\n",
    "                    # Draw the predicted label and confidence score on the frame\n",
    "                    text = f\"{predicted_output[0]}: {confidence_score:.2f}\"\n",
    "                    cv2.putText(image, text, (10, 30), cv2.FONT_HERSHEY_SIMPLEX, 1, (0, 255, 0), 2, cv2.LINE_AA)\n",
    "\n",
    "                    # Draw pose landmarks on the frame\n",
    "                    mp_drawing.draw_landmarks(\n",
    "                        image, results.pose_landmarks, mp_pose.POSE_CONNECTIONS,\n",
    "                        mp_drawing.DrawingSpec(color=(245, 117, 66), thickness=2, circle_radius=2),\n",
    "                        mp_drawing.DrawingSpec(color=(245, 66, 230), thickness=2, circle_radius=2)\n",
    "                    )\n",
    "\n",
    "            except Exception as e:\n",
    "                print(f\"Error processing frame: {e}\")\n",
    "\n",
    "            # Write the frame with predictions to the output video\n",
    "            out.write(image)\n",
    "\n",
    "    cap.release()\n",
    "    out.release()\n",
    "    return predictions, confidences\n",
    "\n",
    "# Main function to load model and process a single video\n",
    "def main():\n",
    "    # Load your trained model\n",
    "    model_filename = 'exercise_classifier_rf.pkl'\n",
    "    model = load_model(model_filename)\n",
    "\n",
    "    # Specify the path to your single video file\n",
    "    video_path = 'Test_Videos\\Test_video.mp4'\n",
    "    output_path = 'Output\\output.mp4'\n",
    "\n",
    "    # Process the video to make predictions\n",
    "    predictions, confidences = process_video(video_path, model, output_path)\n",
    "\n",
    "    print(\"Predicted exercise labels and confidence scores:\", list(zip(predictions, confidences)))\n",
    "\n",
    "if __name__ == \"__main__\":\n",
    "    main()\n"
   ]
  },
  {
   "cell_type": "code",
   "execution_count": null,
   "id": "9b24abc8",
   "metadata": {},
   "outputs": [],
   "source": []
  }
 ],
 "metadata": {
  "kernelspec": {
   "display_name": "Python 3 (ipykernel)",
   "language": "python",
   "name": "python3"
  },
  "language_info": {
   "codemirror_mode": {
    "name": "ipython",
    "version": 3
   },
   "file_extension": ".py",
   "mimetype": "text/x-python",
   "name": "python",
   "nbconvert_exporter": "python",
   "pygments_lexer": "ipython3",
   "version": "3.11.4"
  }
 },
 "nbformat": 4,
 "nbformat_minor": 5
}
